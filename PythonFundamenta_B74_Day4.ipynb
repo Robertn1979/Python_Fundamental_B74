{
 "cells": [
  {
   "cell_type": "code",
   "execution_count": null,
   "id": "a047d0c7",
   "metadata": {},
   "outputs": [],
   "source": [
    "Introuction to list dataypes:"
   ]
  },
  {
   "cell_type": "code",
   "execution_count": null,
   "id": "4e98987b",
   "metadata": {},
   "outputs": [],
   "source": [
    "defination : A list is a colleciton of items declaed in a particular order."
   ]
  },
  {
   "cell_type": "code",
   "execution_count": null,
   "id": "afbf35f4",
   "metadata": {},
   "outputs": [],
   "source": [
    "clasificaiton : It is classified as a mutable datatype"
   ]
  },
  {
   "cell_type": "code",
   "execution_count": null,
   "id": "c60e5924",
   "metadata": {},
   "outputs": [],
   "source": [
    "how to decalre the list datatype ....? ===== >[]"
   ]
  },
  {
   "cell_type": "code",
   "execution_count": null,
   "id": "a307ec87",
   "metadata": {},
   "outputs": [],
   "source": []
  },
  {
   "cell_type": "code",
   "execution_count": 1,
   "id": "430a0785",
   "metadata": {},
   "outputs": [],
   "source": [
    "students = ['ravi', 'divya','sadiya','naveen','ahmed','suresh'] #0,1,2,3,4,5"
   ]
  },
  {
   "cell_type": "code",
   "execution_count": 2,
   "id": "c716f471",
   "metadata": {},
   "outputs": [
    {
     "name": "stdout",
     "output_type": "stream",
     "text": [
      "['ravi', 'divya', 'sadiya', 'naveen', 'ahmed', 'suresh']\n"
     ]
    }
   ],
   "source": [
    "print(students)"
   ]
  },
  {
   "cell_type": "code",
   "execution_count": 3,
   "id": "99b623a7",
   "metadata": {},
   "outputs": [
    {
     "data": {
      "text/plain": [
       "list"
      ]
     },
     "execution_count": 3,
     "metadata": {},
     "output_type": "execute_result"
    }
   ],
   "source": [
    "type(students)"
   ]
  },
  {
   "cell_type": "code",
   "execution_count": null,
   "id": "16f3e04b",
   "metadata": {},
   "outputs": [],
   "source": [
    "Introduction to indexing : start with 0,1,2,3,4,............"
   ]
  },
  {
   "cell_type": "code",
   "execution_count": null,
   "id": "2085f0da",
   "metadata": {},
   "outputs": [],
   "source": [
    "#req : i want to get the divyas name in the op....."
   ]
  },
  {
   "cell_type": "code",
   "execution_count": 4,
   "id": "dd73e0b7",
   "metadata": {},
   "outputs": [
    {
     "name": "stdout",
     "output_type": "stream",
     "text": [
      "divya\n"
     ]
    }
   ],
   "source": [
    "print(students[1])"
   ]
  },
  {
   "cell_type": "code",
   "execution_count": null,
   "id": "a8bd4572",
   "metadata": {},
   "outputs": [],
   "source": [
    "#ahemd anme ...?"
   ]
  },
  {
   "cell_type": "code",
   "execution_count": 6,
   "id": "c84698d3",
   "metadata": {},
   "outputs": [
    {
     "name": "stdout",
     "output_type": "stream",
     "text": [
      "ahmed\n"
     ]
    }
   ],
   "source": [
    "print(students[4])"
   ]
  },
  {
   "cell_type": "code",
   "execution_count": 8,
   "id": "62797f31",
   "metadata": {},
   "outputs": [
    {
     "name": "stdout",
     "output_type": "stream",
     "text": [
      "Ahmed\n"
     ]
    }
   ],
   "source": [
    "print(students[4].title())"
   ]
  },
  {
   "cell_type": "code",
   "execution_count": 11,
   "id": "cfad1484",
   "metadata": {},
   "outputs": [
    {
     "name": "stdout",
     "output_type": "stream",
     "text": [
      "['ravi', 'divya', 'sadiya', 'naveen', 'ahmed', 'suresh']\n"
     ]
    }
   ],
   "source": [
    "print(students)"
   ]
  },
  {
   "cell_type": "code",
   "execution_count": null,
   "id": "9a2cb795",
   "metadata": {},
   "outputs": [],
   "source": [
    "1. how to add new students to the list ....?\n",
    "\n",
    "2. how to modify the students in the list ....?\n",
    "\n",
    "3. how to delete the students in the list ...../ "
   ]
  },
  {
   "cell_type": "code",
   "execution_count": null,
   "id": "d59f4608",
   "metadata": {},
   "outputs": [],
   "source": []
  },
  {
   "cell_type": "code",
   "execution_count": null,
   "id": "d6bae06a",
   "metadata": {},
   "outputs": [],
   "source": [
    "# req : i want ot anand ot the above list...."
   ]
  },
  {
   "cell_type": "code",
   "execution_count": 13,
   "id": "4da10055",
   "metadata": {},
   "outputs": [],
   "source": [
    "students.append('anand')"
   ]
  },
  {
   "cell_type": "code",
   "execution_count": 14,
   "id": "f881b0de",
   "metadata": {},
   "outputs": [
    {
     "name": "stdout",
     "output_type": "stream",
     "text": [
      "['ravi', 'divya', 'sadiya', 'naveen', 'ahmed', 'suresh', 'anand', 'anand']\n"
     ]
    }
   ],
   "source": [
    "print(students)"
   ]
  },
  {
   "cell_type": "code",
   "execution_count": null,
   "id": "5526a81a",
   "metadata": {},
   "outputs": [],
   "source": [
    "# req : swathi to be added"
   ]
  },
  {
   "cell_type": "code",
   "execution_count": 15,
   "id": "9211049d",
   "metadata": {},
   "outputs": [],
   "source": [
    "students.append('swathi')"
   ]
  },
  {
   "cell_type": "code",
   "execution_count": 16,
   "id": "a44a08f2",
   "metadata": {},
   "outputs": [
    {
     "name": "stdout",
     "output_type": "stream",
     "text": [
      "['ravi', 'divya', 'sadiya', 'naveen', 'ahmed', 'suresh', 'anand', 'anand', 'swathi']\n"
     ]
    }
   ],
   "source": [
    "print (students)"
   ]
  },
  {
   "cell_type": "code",
   "execution_count": null,
   "id": "af587e59",
   "metadata": {},
   "outputs": [],
   "source": [
    "# req : deepa .... 2nd index"
   ]
  },
  {
   "cell_type": "code",
   "execution_count": 17,
   "id": "924ae232",
   "metadata": {},
   "outputs": [],
   "source": [
    "students.insert(2,'deepa')"
   ]
  },
  {
   "cell_type": "code",
   "execution_count": 18,
   "id": "7102d907",
   "metadata": {},
   "outputs": [
    {
     "name": "stdout",
     "output_type": "stream",
     "text": [
      "Deepa\n"
     ]
    }
   ],
   "source": [
    "print(students[2].title())"
   ]
  },
  {
   "cell_type": "code",
   "execution_count": null,
   "id": "f3a2125b",
   "metadata": {},
   "outputs": [],
   "source": [
    "Interview question : can you plese explain what is the differenct between append and insert menthos in the list datatype ...?"
   ]
  },
  {
   "cell_type": "code",
   "execution_count": 19,
   "id": "9cd28f6d",
   "metadata": {},
   "outputs": [
    {
     "name": "stdout",
     "output_type": "stream",
     "text": [
      "['ravi', 'divya', 'deepa', 'sadiya', 'naveen', 'ahmed', 'suresh', 'anand', 'anand', 'swathi']\n"
     ]
    }
   ],
   "source": [
    "print(students)"
   ]
  },
  {
   "cell_type": "code",
   "execution_count": null,
   "id": "a001b5c9",
   "metadata": {},
   "outputs": [],
   "source": [
    "# req : i want to modify rave name to raju ....?"
   ]
  },
  {
   "cell_type": "code",
   "execution_count": 20,
   "id": "b0113a65",
   "metadata": {},
   "outputs": [],
   "source": [
    "students[0] = 'raju'"
   ]
  },
  {
   "cell_type": "code",
   "execution_count": 21,
   "id": "3da02fcf",
   "metadata": {},
   "outputs": [
    {
     "name": "stdout",
     "output_type": "stream",
     "text": [
      "['raju', 'divya', 'deepa', 'sadiya', 'naveen', 'ahmed', 'suresh', 'anand', 'anand', 'swathi']\n"
     ]
    }
   ],
   "source": [
    "print(students)"
   ]
  },
  {
   "cell_type": "code",
   "execution_count": 22,
   "id": "37d9c755",
   "metadata": {},
   "outputs": [],
   "source": [
    "del students[4]  # permanent deleting"
   ]
  },
  {
   "cell_type": "code",
   "execution_count": 23,
   "id": "e90c2553",
   "metadata": {},
   "outputs": [
    {
     "name": "stdout",
     "output_type": "stream",
     "text": [
      "['raju', 'divya', 'deepa', 'sadiya', 'ahmed', 'suresh', 'anand', 'anand', 'swathi']\n"
     ]
    }
   ],
   "source": [
    "print(students)"
   ]
  },
  {
   "cell_type": "code",
   "execution_count": null,
   "id": "844f56f1",
   "metadata": {},
   "outputs": [],
   "source": [
    " pop  ---> dy default it will be deleting the last elemnt from the list and will be saving the variable assigned."
   ]
  },
  {
   "cell_type": "code",
   "execution_count": 24,
   "id": "fbac14d8",
   "metadata": {},
   "outputs": [],
   "source": [
    "x = students.pop()"
   ]
  },
  {
   "cell_type": "code",
   "execution_count": 25,
   "id": "112a3d98",
   "metadata": {},
   "outputs": [
    {
     "name": "stdout",
     "output_type": "stream",
     "text": [
      "['raju', 'divya', 'deepa', 'sadiya', 'ahmed', 'suresh', 'anand', 'anand']\n"
     ]
    }
   ],
   "source": [
    "print(students)"
   ]
  },
  {
   "cell_type": "code",
   "execution_count": 26,
   "id": "c57ef1a0",
   "metadata": {},
   "outputs": [
    {
     "name": "stdout",
     "output_type": "stream",
     "text": [
      "swathi\n"
     ]
    }
   ],
   "source": [
    "print(x)"
   ]
  },
  {
   "cell_type": "code",
   "execution_count": null,
   "id": "fa2fbbc7",
   "metadata": {},
   "outputs": [],
   "source": [
    "interview questions : what is the difference btween delete and pop menthos in the list datatype"
   ]
  },
  {
   "cell_type": "code",
   "execution_count": null,
   "id": "54099397",
   "metadata": {},
   "outputs": [],
   "source": []
  },
  {
   "cell_type": "code",
   "execution_count": null,
   "id": "a90e2736",
   "metadata": {},
   "outputs": [],
   "source": [
    "introduction to negative indexing :"
   ]
  },
  {
   "cell_type": "code",
   "execution_count": 28,
   "id": "4cc63152",
   "metadata": {},
   "outputs": [
    {
     "name": "stdout",
     "output_type": "stream",
     "text": [
      "anand\n"
     ]
    }
   ],
   "source": [
    "print(students[-1])"
   ]
  },
  {
   "cell_type": "code",
   "execution_count": 29,
   "id": "e8d54536",
   "metadata": {},
   "outputs": [
    {
     "name": "stdout",
     "output_type": "stream",
     "text": [
      "The Zen of Python, by Tim Peters\n",
      "\n",
      "Beautiful is better than ugly.\n",
      "Explicit is better than implicit.\n",
      "Simple is better than complex.\n",
      "Complex is better than complicated.\n",
      "Flat is better than nested.\n",
      "Sparse is better than dense.\n",
      "Readability counts.\n",
      "Special cases aren't special enough to break the rules.\n",
      "Although practicality beats purity.\n",
      "Errors should never pass silently.\n",
      "Unless explicitly silenced.\n",
      "In the face of ambiguity, refuse the temptation to guess.\n",
      "There should be one-- and preferably only one --obvious way to do it.\n",
      "Although that way may not be obvious at first unless you're Dutch.\n",
      "Now is better than never.\n",
      "Although never is often better than *right* now.\n",
      "If the implementation is hard to explain, it's a bad idea.\n",
      "If the implementation is easy to explain, it may be a good idea.\n",
      "Namespaces are one honking great idea -- let's do more of those!\n"
     ]
    }
   ],
   "source": [
    "import this"
   ]
  },
  {
   "cell_type": "code",
   "execution_count": null,
   "id": "b38857f4",
   "metadata": {},
   "outputs": [],
   "source": []
  },
  {
   "cell_type": "code",
   "execution_count": null,
   "id": "993e00e8",
   "metadata": {},
   "outputs": [],
   "source": []
  }
 ],
 "metadata": {
  "kernelspec": {
   "display_name": "Python 3 (ipykernel)",
   "language": "python",
   "name": "python3"
  },
  "language_info": {
   "codemirror_mode": {
    "name": "ipython",
    "version": 3
   },
   "file_extension": ".py",
   "mimetype": "text/x-python",
   "name": "python",
   "nbconvert_exporter": "python",
   "pygments_lexer": "ipython3",
   "version": "3.9.13"
  }
 },
 "nbformat": 4,
 "nbformat_minor": 5
}
