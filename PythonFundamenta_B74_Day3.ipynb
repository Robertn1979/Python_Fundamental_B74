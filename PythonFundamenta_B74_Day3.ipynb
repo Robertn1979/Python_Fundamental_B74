{
 "cells": [
  {
   "cell_type": "code",
   "execution_count": null,
   "id": "5a997339",
   "metadata": {},
   "outputs": [],
   "source": [
    "continutaion with string data types"
   ]
  },
  {
   "cell_type": "code",
   "execution_count": 2,
   "id": "4e51819f",
   "metadata": {},
   "outputs": [],
   "source": [
    "first_name = 'bharat'\n",
    "last_name = 'reddy'"
   ]
  },
  {
   "cell_type": "code",
   "execution_count": null,
   "id": "08282a45",
   "metadata": {},
   "outputs": [],
   "source": [
    "#req : I want to get the fullname"
   ]
  },
  {
   "cell_type": "raw",
   "id": "c5ee4c66",
   "metadata": {},
   "source": [
    "under the concept of f string**"
   ]
  },
  {
   "cell_type": "code",
   "execution_count": null,
   "id": "18774aa5",
   "metadata": {},
   "outputs": [],
   "source": [
    "#genral syntax of f string"
   ]
  },
  {
   "cell_type": "code",
   "execution_count": null,
   "id": "8f83d904",
   "metadata": {},
   "outputs": [],
   "source": [
    "f* custome words {place_holder_1}, {place_holder_2} ..... {place_holder_n}"
   ]
  },
  {
   "cell_type": "code",
   "execution_count": 3,
   "id": "117c4787",
   "metadata": {},
   "outputs": [
    {
     "name": "stdout",
     "output_type": "stream",
     "text": [
      "bharat reddy\n"
     ]
    }
   ],
   "source": [
    "full_name = f\"{first_name} {last_name}\"\n",
    "print(full_name)"
   ]
  },
  {
   "cell_type": "code",
   "execution_count": 7,
   "id": "37747167",
   "metadata": {},
   "outputs": [
    {
     "name": "stdout",
     "output_type": "stream",
     "text": [
      "Keep up the goood work, Bharat Reddy\n"
     ]
    }
   ],
   "source": [
    "message = f\"Keep up the goood work, {full_name.title()}\"\n",
    "print(message)"
   ]
  },
  {
   "cell_type": "code",
   "execution_count": null,
   "id": "ddf9e25e",
   "metadata": {},
   "outputs": [],
   "source": []
  },
  {
   "cell_type": "code",
   "execution_count": null,
   "id": "36bc59e7",
   "metadata": {},
   "outputs": [],
   "source": [
    "adding the whitespace"
   ]
  },
  {
   "cell_type": "code",
   "execution_count": 8,
   "id": "c53422ba",
   "metadata": {},
   "outputs": [
    {
     "name": "stdout",
     "output_type": "stream",
     "text": [
      "favourite_programming_language:pythonjavaC++Swiftpascalcobal\n"
     ]
    }
   ],
   "source": [
    "print('favourite_programming_language:pythonjavaC++Swiftpascalcobal')"
   ]
  },
  {
   "cell_type": "code",
   "execution_count": null,
   "id": "ed6854f7",
   "metadata": {},
   "outputs": [],
   "source": [
    "\\n ------> it is called a new line delimiter"
   ]
  },
  {
   "cell_type": "code",
   "execution_count": 9,
   "id": "2e1a50e6",
   "metadata": {},
   "outputs": [
    {
     "name": "stdout",
     "output_type": "stream",
     "text": [
      "favourite_programming_language:\n",
      "python\n",
      "java\n",
      "C++\n",
      "Swift\n",
      "pascal\n",
      "cobal\n"
     ]
    }
   ],
   "source": [
    "print('favourite_programming_language:\\npython\\njava\\nC++\\nSwift\\npascal\\ncobal')"
   ]
  },
  {
   "cell_type": "code",
   "execution_count": null,
   "id": "8e7e47eb",
   "metadata": {},
   "outputs": [],
   "source": [
    "\\t ====> tab delimiter"
   ]
  },
  {
   "cell_type": "code",
   "execution_count": 11,
   "id": "788217ea",
   "metadata": {},
   "outputs": [
    {
     "name": "stdout",
     "output_type": "stream",
     "text": [
      "favourite_programming_language:\n",
      "\tpython\n",
      "\tjava\n",
      "\tC++\n",
      "\tSwift\n",
      "\tpascal\n",
      "\tcobal\n"
     ]
    }
   ],
   "source": [
    "print('favourite_programming_language:\\n\\tpython\\n\\tjava\\n\\tC++\\n\\tSwift\\n\\tpascal\\n\\tcobal')"
   ]
  },
  {
   "cell_type": "code",
   "execution_count": null,
   "id": "857a7301",
   "metadata": {},
   "outputs": [],
   "source": []
  },
  {
   "cell_type": "code",
   "execution_count": null,
   "id": "61862925",
   "metadata": {},
   "outputs": [],
   "source": [
    "Removing whitespaces from strings:"
   ]
  },
  {
   "cell_type": "code",
   "execution_count": 13,
   "id": "b0a67151",
   "metadata": {},
   "outputs": [
    {
     "name": "stdout",
     "output_type": "stream",
     "text": [
      "python\n"
     ]
    }
   ],
   "source": [
    "name = 'python'\n",
    "print(name)"
   ]
  },
  {
   "cell_type": "code",
   "execution_count": 14,
   "id": "6692e25c",
   "metadata": {},
   "outputs": [
    {
     "name": "stdout",
     "output_type": "stream",
     "text": [
      "     python\n"
     ]
    }
   ],
   "source": [
    "name2 = '     python'\n",
    "print(name2)"
   ]
  },
  {
   "cell_type": "code",
   "execution_count": 15,
   "id": "5da36ecc",
   "metadata": {},
   "outputs": [
    {
     "name": "stdout",
     "output_type": "stream",
     "text": [
      "python      \n"
     ]
    }
   ],
   "source": [
    "name3 = 'python      '\n",
    "print(name3)"
   ]
  },
  {
   "cell_type": "code",
   "execution_count": 16,
   "id": "8f18273d",
   "metadata": {},
   "outputs": [
    {
     "data": {
      "text/plain": [
       "'python'"
      ]
     },
     "execution_count": 16,
     "metadata": {},
     "output_type": "execute_result"
    }
   ],
   "source": [
    "name2.lstrip()"
   ]
  },
  {
   "cell_type": "code",
   "execution_count": 17,
   "id": "ab69ab07",
   "metadata": {},
   "outputs": [
    {
     "data": {
      "text/plain": [
       "'python'"
      ]
     },
     "execution_count": 17,
     "metadata": {},
     "output_type": "execute_result"
    }
   ],
   "source": [
    "name3.rstrip()"
   ]
  },
  {
   "cell_type": "code",
   "execution_count": 18,
   "id": "7e7821c1",
   "metadata": {},
   "outputs": [
    {
     "name": "stdout",
     "output_type": "stream",
     "text": [
      "    python    \n"
     ]
    }
   ],
   "source": [
    "name4 = \"    python    \"\n",
    "print(name4)"
   ]
  },
  {
   "cell_type": "code",
   "execution_count": 19,
   "id": "150892c1",
   "metadata": {},
   "outputs": [
    {
     "data": {
      "text/plain": [
       "'python'"
      ]
     },
     "execution_count": 19,
     "metadata": {},
     "output_type": "execute_result"
    }
   ],
   "source": [
    "name4.strip()"
   ]
  },
  {
   "cell_type": "code",
   "execution_count": null,
   "id": "232997df",
   "metadata": {},
   "outputs": [],
   "source": []
  }
 ],
 "metadata": {
  "kernelspec": {
   "display_name": "Python 3 (ipykernel)",
   "language": "python",
   "name": "python3"
  },
  "language_info": {
   "codemirror_mode": {
    "name": "ipython",
    "version": 3
   },
   "file_extension": ".py",
   "mimetype": "text/x-python",
   "name": "python",
   "nbconvert_exporter": "python",
   "pygments_lexer": "ipython3",
   "version": "3.9.13"
  }
 },
 "nbformat": 4,
 "nbformat_minor": 5
}
