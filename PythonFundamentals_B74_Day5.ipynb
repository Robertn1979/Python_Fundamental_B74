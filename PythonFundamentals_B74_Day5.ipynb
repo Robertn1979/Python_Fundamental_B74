{
 "cells": [
  {
   "cell_type": "code",
   "execution_count": null,
   "id": "350b4dc3",
   "metadata": {},
   "outputs": [],
   "source": [
    "Working with the listed datatype :"
   ]
  },
  {
   "cell_type": "code",
   "execution_count": null,
   "id": "0badb17e",
   "metadata": {},
   "outputs": [],
   "source": [
    "Organising the list datatype :"
   ]
  },
  {
   "cell_type": "code",
   "execution_count": null,
   "id": "3ee89e0b",
   "metadata": {},
   "outputs": [],
   "source": []
  },
  {
   "cell_type": "code",
   "execution_count": 2,
   "id": "ddc8fa3b",
   "metadata": {},
   "outputs": [],
   "source": [
    "cars = ['kid','benz','maruti','honda','bmw','audi']"
   ]
  },
  {
   "cell_type": "code",
   "execution_count": null,
   "id": "ba4c827a",
   "metadata": {},
   "outputs": [],
   "source": []
  },
  {
   "cell_type": "code",
   "execution_count": null,
   "id": "fe928e85",
   "metadata": {},
   "outputs": [],
   "source": [
    "# req : i ant to prin the list in the alphabetical order -----> A - Z"
   ]
  },
  {
   "cell_type": "code",
   "execution_count": null,
   "id": "628f0944",
   "metadata": {},
   "outputs": [],
   "source": [
    "two approches:\n",
    "    \n",
    "    1. temperory approach ------> sorted ===> we can maintian the original ordder of the list\n",
    "    2. permanent approach ------> sort ===> changes are applied permanently"
   ]
  },
  {
   "cell_type": "code",
   "execution_count": null,
   "id": "3dd11270",
   "metadata": {},
   "outputs": [],
   "source": []
  },
  {
   "cell_type": "code",
   "execution_count": 3,
   "id": "ae84b361",
   "metadata": {},
   "outputs": [
    {
     "name": "stdout",
     "output_type": "stream",
     "text": [
      "['audi', 'benz', 'bmw', 'honda', 'kid', 'maruti']\n"
     ]
    }
   ],
   "source": [
    "print(sorted(cars)) # A, B,B, H,K,M =====> A_Z"
   ]
  },
  {
   "cell_type": "code",
   "execution_count": null,
   "id": "79630605",
   "metadata": {},
   "outputs": [],
   "source": [
    "benz , bmw ---------> B, B====> e, m"
   ]
  },
  {
   "cell_type": "code",
   "execution_count": null,
   "id": "0c4fef0c",
   "metadata": {},
   "outputs": [],
   "source": []
  },
  {
   "cell_type": "code",
   "execution_count": 4,
   "id": "8623236a",
   "metadata": {},
   "outputs": [
    {
     "name": "stdout",
     "output_type": "stream",
     "text": [
      "['kid', 'benz', 'maruti', 'honda', 'bmw', 'audi']\n"
     ]
    }
   ],
   "source": [
    "print(cars) # this is the original order"
   ]
  },
  {
   "cell_type": "code",
   "execution_count": 5,
   "id": "366ad27b",
   "metadata": {},
   "outputs": [
    {
     "name": "stdout",
     "output_type": "stream",
     "text": [
      "['kid', 'benz', 'maruti', 'honda', 'bmw', 'audi']\n"
     ]
    }
   ],
   "source": [
    "print(cars)"
   ]
  },
  {
   "cell_type": "code",
   "execution_count": null,
   "id": "d8654ea6",
   "metadata": {},
   "outputs": [],
   "source": []
  },
  {
   "cell_type": "code",
   "execution_count": 7,
   "id": "9c5e4180",
   "metadata": {},
   "outputs": [],
   "source": [
    "cars.sort()"
   ]
  },
  {
   "cell_type": "code",
   "execution_count": 8,
   "id": "8731c2ee",
   "metadata": {},
   "outputs": [
    {
     "name": "stdout",
     "output_type": "stream",
     "text": [
      "['audi', 'benz', 'bmw', 'honda', 'kid', 'maruti']\n"
     ]
    }
   ],
   "source": [
    "print(cars)"
   ]
  },
  {
   "cell_type": "code",
   "execution_count": 9,
   "id": "0449a9e7",
   "metadata": {},
   "outputs": [
    {
     "name": "stdout",
     "output_type": "stream",
     "text": [
      "['audi', 'benz', 'bmw', 'honda', 'kid', 'maruti']\n"
     ]
    }
   ],
   "source": [
    "print(cars)"
   ]
  },
  {
   "cell_type": "code",
   "execution_count": null,
   "id": "4d1155b2",
   "metadata": {},
   "outputs": [],
   "source": [
    "invertview question : what is the diff btw sorted and sort menthod in a list"
   ]
  },
  {
   "cell_type": "code",
   "execution_count": null,
   "id": "c3feee4c",
   "metadata": {},
   "outputs": [],
   "source": []
  },
  {
   "cell_type": "code",
   "execution_count": null,
   "id": "2d7d3396",
   "metadata": {},
   "outputs": [],
   "source": [
    "# i want to print the list in the reverse oreder....?"
   ]
  },
  {
   "cell_type": "code",
   "execution_count": 10,
   "id": "c212648c",
   "metadata": {},
   "outputs": [
    {
     "name": "stdout",
     "output_type": "stream",
     "text": [
      "['audi', 'benz', 'bmw', 'honda', 'kid', 'maruti']\n"
     ]
    }
   ],
   "source": [
    "print(cars)"
   ]
  },
  {
   "cell_type": "code",
   "execution_count": null,
   "id": "2aa7a214",
   "metadata": {},
   "outputs": [],
   "source": [
    "#maruthi, kia, honada, bmw, bens and audi..."
   ]
  },
  {
   "cell_type": "code",
   "execution_count": 11,
   "id": "1afdd677",
   "metadata": {},
   "outputs": [],
   "source": [
    "cars.reverse()"
   ]
  },
  {
   "cell_type": "code",
   "execution_count": 12,
   "id": "7c54334b",
   "metadata": {},
   "outputs": [
    {
     "name": "stdout",
     "output_type": "stream",
     "text": [
      "['maruti', 'kid', 'honda', 'bmw', 'benz', 'audi']\n"
     ]
    }
   ],
   "source": [
    "print (cars)"
   ]
  },
  {
   "cell_type": "code",
   "execution_count": null,
   "id": "94455ec8",
   "metadata": {},
   "outputs": [],
   "source": []
  },
  {
   "cell_type": "code",
   "execution_count": null,
   "id": "c9f59e4a",
   "metadata": {},
   "outputs": [],
   "source": [
    "# i want to know the no of elements in the list ...?"
   ]
  },
  {
   "cell_type": "code",
   "execution_count": 13,
   "id": "9ab6baa4",
   "metadata": {},
   "outputs": [
    {
     "data": {
      "text/plain": [
       "6"
      ]
     },
     "execution_count": 13,
     "metadata": {},
     "output_type": "execute_result"
    }
   ],
   "source": [
    "len(cars) # COUNT OF ELEMENTS"
   ]
  },
  {
   "cell_type": "code",
   "execution_count": null,
   "id": "a0806017",
   "metadata": {},
   "outputs": [],
   "source": []
  },
  {
   "cell_type": "code",
   "execution_count": null,
   "id": "e1530f04",
   "metadata": {},
   "outputs": [],
   "source": [
    "intoduction to slicing :\n",
    "    "
   ]
  },
  {
   "cell_type": "code",
   "execution_count": 17,
   "id": "49d53522",
   "metadata": {},
   "outputs": [],
   "source": [
    "students = ['trinadh','akhil','ansari','david','sadiya','iqra','divya','swathi']"
   ]
  },
  {
   "cell_type": "code",
   "execution_count": 18,
   "id": "1bb03b63",
   "metadata": {},
   "outputs": [
    {
     "name": "stdout",
     "output_type": "stream",
     "text": [
      "['trinadh', 'akhil', 'ansari', 'david', 'sadiya', 'iqra', 'divya', 'swathi']\n"
     ]
    }
   ],
   "source": [
    "print(students)"
   ]
  },
  {
   "cell_type": "code",
   "execution_count": 16,
   "id": "d356a0b6",
   "metadata": {},
   "outputs": [
    {
     "data": {
      "text/plain": [
       "list"
      ]
     },
     "execution_count": 16,
     "metadata": {},
     "output_type": "execute_result"
    }
   ],
   "source": [
    "type(students)"
   ]
  },
  {
   "cell_type": "code",
   "execution_count": null,
   "id": "30eea5df",
   "metadata": {},
   "outputs": [],
   "source": [
    "# general syntax of slicing"
   ]
  },
  {
   "cell_type": "raw",
   "id": "0d93aab2",
   "metadata": {},
   "source": []
  },
  {
   "cell_type": "code",
   "execution_count": null,
   "id": "5c6bc0b9",
   "metadata": {},
   "outputs": [],
   "source": [
    "[startvalue:stopvalue:stepcount]"
   ]
  },
  {
   "cell_type": "code",
   "execution_count": null,
   "id": "6c0e99d3",
   "metadata": {},
   "outputs": [],
   "source": [
    "Note : stop value is always exclusive.  - to invlude we have to incrementthe inded by +1."
   ]
  },
  {
   "cell_type": "code",
   "execution_count": null,
   "id": "4a2dc8a8",
   "metadata": {},
   "outputs": [],
   "source": []
  },
  {
   "cell_type": "code",
   "execution_count": null,
   "id": "7f98c312",
   "metadata": {},
   "outputs": [],
   "source": [
    "#req :  i want to trinadh and akhil in the output...?"
   ]
  },
  {
   "cell_type": "code",
   "execution_count": 19,
   "id": "188562bc",
   "metadata": {},
   "outputs": [
    {
     "name": "stdout",
     "output_type": "stream",
     "text": [
      "['trinadh']\n"
     ]
    }
   ],
   "source": [
    "print(students[0:1])"
   ]
  },
  {
   "cell_type": "code",
   "execution_count": 21,
   "id": "30b9e236",
   "metadata": {},
   "outputs": [
    {
     "name": "stdout",
     "output_type": "stream",
     "text": [
      "['trinadh', 'akhil']\n"
     ]
    }
   ],
   "source": [
    "print(students[0:2])"
   ]
  },
  {
   "cell_type": "code",
   "execution_count": null,
   "id": "5c030b56",
   "metadata": {},
   "outputs": [],
   "source": [
    "# ansari and david"
   ]
  },
  {
   "cell_type": "code",
   "execution_count": 23,
   "id": "a8d0a7c2",
   "metadata": {},
   "outputs": [
    {
     "name": "stdout",
     "output_type": "stream",
     "text": [
      "['ansari', 'david']\n"
     ]
    }
   ],
   "source": [
    "print(students[2:4])"
   ]
  },
  {
   "cell_type": "code",
   "execution_count": 25,
   "id": "8f026d91",
   "metadata": {},
   "outputs": [
    {
     "name": "stdout",
     "output_type": "stream",
     "text": [
      "['divya', 'swathi']\n"
     ]
    }
   ],
   "source": [
    "print(students[6:8])"
   ]
  },
  {
   "cell_type": "code",
   "execution_count": null,
   "id": "b20d8b53",
   "metadata": {},
   "outputs": [],
   "source": []
  },
  {
   "cell_type": "code",
   "execution_count": 26,
   "id": "049a4818",
   "metadata": {},
   "outputs": [
    {
     "name": "stdout",
     "output_type": "stream",
     "text": [
      "['trinadh', 'akhil', 'ansari', 'david', 'sadiya', 'iqra', 'divya', 'swathi']\n"
     ]
    }
   ],
   "source": [
    "print(students)"
   ]
  },
  {
   "cell_type": "code",
   "execution_count": 28,
   "id": "2a858d69",
   "metadata": {},
   "outputs": [
    {
     "name": "stdout",
     "output_type": "stream",
     "text": [
      "['trinadh', 'ansari', 'sadiya', 'divya']\n"
     ]
    }
   ],
   "source": [
    "print(students[0:8:2])"
   ]
  },
  {
   "cell_type": "code",
   "execution_count": 29,
   "id": "82edd99e",
   "metadata": {},
   "outputs": [
    {
     "name": "stdout",
     "output_type": "stream",
     "text": [
      "['trinadh', 'david', 'divya']\n"
     ]
    }
   ],
   "source": [
    "print(students[0:8:3])"
   ]
  },
  {
   "cell_type": "code",
   "execution_count": null,
   "id": "d36b728e",
   "metadata": {},
   "outputs": [],
   "source": []
  }
 ],
 "metadata": {
  "kernelspec": {
   "display_name": "Python 3 (ipykernel)",
   "language": "python",
   "name": "python3"
  },
  "language_info": {
   "codemirror_mode": {
    "name": "ipython",
    "version": 3
   },
   "file_extension": ".py",
   "mimetype": "text/x-python",
   "name": "python",
   "nbconvert_exporter": "python",
   "pygments_lexer": "ipython3",
   "version": "3.9.13"
  }
 },
 "nbformat": 4,
 "nbformat_minor": 5
}
