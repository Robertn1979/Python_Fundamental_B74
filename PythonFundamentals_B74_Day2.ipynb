{
 "cells": [
  {
   "cell_type": "code",
   "execution_count": null,
   "id": "de2765f2",
   "metadata": {},
   "outputs": [],
   "source": [
    "Understand the variables in Pyton"
   ]
  },
  {
   "cell_type": "code",
   "execution_count": 3,
   "id": "b205ed2c",
   "metadata": {},
   "outputs": [
    {
     "name": "stdout",
     "output_type": "stream",
     "text": [
      "7\n"
     ]
    }
   ],
   "source": [
    "x=5\n",
    "y=2\n",
    "\n",
    "z=x+y\n",
    "print(z)"
   ]
  },
  {
   "cell_type": "code",
   "execution_count": null,
   "id": "695776cc",
   "metadata": {},
   "outputs": [],
   "source": []
  },
  {
   "cell_type": "code",
   "execution_count": null,
   "id": "69448bdb",
   "metadata": {},
   "outputs": [],
   "source": [
    "Rules for declaring the variables in Python:"
   ]
  },
  {
   "cell_type": "code",
   "execution_count": null,
   "id": "5af3846c",
   "metadata": {},
   "outputs": [],
   "source": [
    "Rule 1 : No namespace while declaring the variable in Python"
   ]
  },
  {
   "cell_type": "code",
   "execution_count": 4,
   "id": "854192e6",
   "metadata": {},
   "outputs": [
    {
     "ename": "SyntaxError",
     "evalue": "invalid syntax (1425210699.py, line 1)",
     "output_type": "error",
     "traceback": [
      "\u001b[1;36m  File \u001b[1;32m\"C:\\Users\\Robert Nadar\\AppData\\Local\\Temp\\ipykernel_17812\\1425210699.py\"\u001b[1;36m, line \u001b[1;32m1\u001b[0m\n\u001b[1;33m    first name = 'Fayaz'\u001b[0m\n\u001b[1;37m          ^\u001b[0m\n\u001b[1;31mSyntaxError\u001b[0m\u001b[1;31m:\u001b[0m invalid syntax\n"
     ]
    }
   ],
   "source": [
    "first name = 'Fayaz'\n",
    "print(first name)"
   ]
  },
  {
   "cell_type": "code",
   "execution_count": 5,
   "id": "fa12a513",
   "metadata": {},
   "outputs": [
    {
     "name": "stdout",
     "output_type": "stream",
     "text": [
      "fayaz\n"
     ]
    }
   ],
   "source": [
    "firstname = 'fayaz'\n",
    "print(firstname)"
   ]
  },
  {
   "cell_type": "code",
   "execution_count": 6,
   "id": "d81dbc0c",
   "metadata": {},
   "outputs": [
    {
     "name": "stdout",
     "output_type": "stream",
     "text": [
      "fayaz\n"
     ]
    }
   ],
   "source": [
    "first_name = 'fayaz'\n",
    "print(first_name)"
   ]
  },
  {
   "cell_type": "code",
   "execution_count": null,
   "id": "58c975be",
   "metadata": {},
   "outputs": [],
   "source": []
  },
  {
   "cell_type": "code",
   "execution_count": null,
   "id": "4ec5af90",
   "metadata": {},
   "outputs": [],
   "source": [
    "Rule 2 : A variable name should not start with a numbert **"
   ]
  },
  {
   "cell_type": "code",
   "execution_count": 11,
   "id": "db9c584a",
   "metadata": {},
   "outputs": [
    {
     "ename": "SyntaxError",
     "evalue": "invalid syntax (3390544477.py, line 1)",
     "output_type": "error",
     "traceback": [
      "\u001b[1;36m  File \u001b[1;32m\"C:\\Users\\Robert Nadar\\AppData\\Local\\Temp\\ipykernel_17812\\3390544477.py\"\u001b[1;36m, line \u001b[1;32m1\u001b[0m\n\u001b[1;33m    1name = 'rahul'\u001b[0m\n\u001b[1;37m     ^\u001b[0m\n\u001b[1;31mSyntaxError\u001b[0m\u001b[1;31m:\u001b[0m invalid syntax\n"
     ]
    }
   ],
   "source": [
    "1name = 'rahul'\n",
    "print(1name)"
   ]
  },
  {
   "cell_type": "code",
   "execution_count": 12,
   "id": "973fe81f",
   "metadata": {},
   "outputs": [
    {
     "name": "stdout",
     "output_type": "stream",
     "text": [
      "rahul\n"
     ]
    }
   ],
   "source": [
    "name1 = 'rahul'\n",
    "print(name1)"
   ]
  },
  {
   "cell_type": "code",
   "execution_count": null,
   "id": "0adfd72a",
   "metadata": {},
   "outputs": [],
   "source": [
    "Rule 3 : A variable name should not contain any special characters"
   ]
  },
  {
   "cell_type": "code",
   "execution_count": null,
   "id": "c3e028b5",
   "metadata": {},
   "outputs": [],
   "source": [
    "@ # $ % ^ & "
   ]
  },
  {
   "cell_type": "code",
   "execution_count": 13,
   "id": "e3631d34",
   "metadata": {},
   "outputs": [
    {
     "ename": "SyntaxError",
     "evalue": "invalid syntax (196514423.py, line 1)",
     "output_type": "error",
     "traceback": [
      "\u001b[1;36m  File \u001b[1;32m\"C:\\Users\\Robert Nadar\\AppData\\Local\\Temp\\ipykernel_17812\\196514423.py\"\u001b[1;36m, line \u001b[1;32m1\u001b[0m\n\u001b[1;33m    name@ = 'divya'\u001b[0m\n\u001b[1;37m          ^\u001b[0m\n\u001b[1;31mSyntaxError\u001b[0m\u001b[1;31m:\u001b[0m invalid syntax\n"
     ]
    }
   ],
   "source": [
    "name@ = 'divya'\n",
    "print(name@)"
   ]
  },
  {
   "cell_type": "code",
   "execution_count": null,
   "id": "30910b0a",
   "metadata": {},
   "outputs": [],
   "source": [
    "introduction to data types in Pyton\n",
    "\n",
    "    1. strings =====> str\n",
    "    \n",
    "    2. lists =======> list\n",
    "    \n",
    "    3. Numeners -----> integers (int) and float(decimals)\n",
    "    \n",
    "    4. tuples =====> tuple\n",
    "    \n",
    "    5. Dictionaries ======> dict"
   ]
  },
  {
   "cell_type": "code",
   "execution_count": null,
   "id": "34616a16",
   "metadata": {},
   "outputs": [],
   "source": []
  },
  {
   "cell_type": "code",
   "execution_count": null,
   "id": "23f57f3e",
   "metadata": {},
   "outputs": [],
   "source": [
    "clasification of datatypes :\n",
    "    Broadly data types are classified into two categories:\n",
    "        \n",
    "        1. mutable types ---->  which we can edit or alter   ----> flexible in nature\n",
    "        \n",
    "        2. immutable dataypes  -----> which we cannot edit or alter   ----> fiexed in nature.\n",
    "        "
   ]
  },
  {
   "cell_type": "code",
   "execution_count": null,
   "id": "86488748",
   "metadata": {},
   "outputs": [],
   "source": []
  },
  {
   "cell_type": "code",
   "execution_count": null,
   "id": "87e3d682",
   "metadata": {},
   "outputs": [],
   "source": [
    "introduction to string datatypes :\n",
    "    \n",
    "defination : A string is series of characters declared in quotes.\n",
    "    \n",
    "classification : it is callsified as an imuutable datatypes.\n",
    "\n",
    "how to declare the string datatype --------------?\n",
    "\n",
    "2 approaches\n",
    "\n",
    "1. single quote\n",
    "\n",
    "2. double quote"
   ]
  },
  {
   "cell_type": "code",
   "execution_count": null,
   "id": "32fab1e0",
   "metadata": {},
   "outputs": [],
   "source": []
  },
  {
   "cell_type": "code",
   "execution_count": 14,
   "id": "0e920035",
   "metadata": {},
   "outputs": [
    {
     "name": "stdout",
     "output_type": "stream",
     "text": [
      "john\n"
     ]
    }
   ],
   "source": [
    "name = 'john'   # single quote\n",
    "\n",
    "print(name)"
   ]
  },
  {
   "cell_type": "code",
   "execution_count": 15,
   "id": "ef796700",
   "metadata": {},
   "outputs": [
    {
     "name": "stdout",
     "output_type": "stream",
     "text": [
      "peter\n"
     ]
    }
   ],
   "source": [
    "name2 ='peter'   # double quote\n",
    "\n",
    "print(name2)"
   ]
  },
  {
   "cell_type": "code",
   "execution_count": null,
   "id": "d0222566",
   "metadata": {},
   "outputs": [],
   "source": [
    "introudction to string methods :"
   ]
  },
  {
   "cell_type": "code",
   "execution_count": null,
   "id": "2eb3757e",
   "metadata": {},
   "outputs": [],
   "source": [
    "methods are nothing but builtin programs that are available in python to use diretly"
   ]
  },
  {
   "cell_type": "code",
   "execution_count": 16,
   "id": "d6c7a666",
   "metadata": {},
   "outputs": [
    {
     "data": {
      "text/plain": [
       "str"
      ]
     },
     "execution_count": 16,
     "metadata": {},
     "output_type": "execute_result"
    }
   ],
   "source": [
    "type(name)"
   ]
  },
  {
   "cell_type": "code",
   "execution_count": 17,
   "id": "07fd2db3",
   "metadata": {},
   "outputs": [
    {
     "data": {
      "text/plain": [
       "str"
      ]
     },
     "execution_count": 17,
     "metadata": {},
     "output_type": "execute_result"
    }
   ],
   "source": [
    "type(name2)"
   ]
  },
  {
   "cell_type": "code",
   "execution_count": null,
   "id": "af0d0c25",
   "metadata": {},
   "outputs": [],
   "source": []
  },
  {
   "cell_type": "code",
   "execution_count": 18,
   "id": "881aa7e3",
   "metadata": {},
   "outputs": [
    {
     "name": "stdout",
     "output_type": "stream",
     "text": [
      "bhanu chandra\n"
     ]
    }
   ],
   "source": [
    "fullname = 'bhanu chandra'\n",
    "print(fullname)"
   ]
  },
  {
   "cell_type": "code",
   "execution_count": null,
   "id": "9bc0563b",
   "metadata": {},
   "outputs": [],
   "source": [
    "#req :  to get in the right format"
   ]
  },
  {
   "cell_type": "code",
   "execution_count": 19,
   "id": "2bf1de1c",
   "metadata": {},
   "outputs": [
    {
     "name": "stdout",
     "output_type": "stream",
     "text": [
      "Bhanu Chandra\n"
     ]
    }
   ],
   "source": [
    "print(fullname.title())"
   ]
  },
  {
   "cell_type": "code",
   "execution_count": null,
   "id": "e38e1b99",
   "metadata": {},
   "outputs": [],
   "source": [
    "#req : to get the name in capital letter"
   ]
  },
  {
   "cell_type": "code",
   "execution_count": 20,
   "id": "f829d008",
   "metadata": {},
   "outputs": [
    {
     "name": "stdout",
     "output_type": "stream",
     "text": [
      "BHANU CHANDRA\n"
     ]
    }
   ],
   "source": [
    "print(fullname.upper())"
   ]
  },
  {
   "cell_type": "code",
   "execution_count": 21,
   "id": "5723e932",
   "metadata": {},
   "outputs": [],
   "source": [
    "#req : to get the name in small letter"
   ]
  },
  {
   "cell_type": "code",
   "execution_count": 22,
   "id": "8dc9b048",
   "metadata": {},
   "outputs": [
    {
     "name": "stdout",
     "output_type": "stream",
     "text": [
      "bhanu chandra\n"
     ]
    }
   ],
   "source": [
    "print(fullname.lower())"
   ]
  },
  {
   "cell_type": "code",
   "execution_count": null,
   "id": "0b351f12",
   "metadata": {},
   "outputs": [],
   "source": []
  }
 ],
 "metadata": {
  "kernelspec": {
   "display_name": "Python 3 (ipykernel)",
   "language": "python",
   "name": "python3"
  },
  "language_info": {
   "codemirror_mode": {
    "name": "ipython",
    "version": 3
   },
   "file_extension": ".py",
   "mimetype": "text/x-python",
   "name": "python",
   "nbconvert_exporter": "python",
   "pygments_lexer": "ipython3",
   "version": "3.9.13"
  }
 },
 "nbformat": 4,
 "nbformat_minor": 5
}
